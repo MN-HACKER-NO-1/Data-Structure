{
 "cells": [
  {
   "cell_type": "markdown",
   "metadata": {},
   "source": [
    "# Question 1\n",
    "Write a program implementing insert, delete and display operation of Circular Queue."
   ]
  },
  {
   "cell_type": "code",
   "execution_count": 1,
   "metadata": {},
   "outputs": [
    {
     "name": "stdout",
     "output_type": "stream",
     "text": [
      "Initial queue\n",
      "1 2 3 4 5 \n",
      "After removing an element from the queue\n",
      "2 3 4 5 \n"
     ]
    }
   ],
   "source": [
    "# Circular Queue implementation in Python\n",
    "\n",
    "\n",
    "class MyCircularQueue():\n",
    "\n",
    "    def __init__(self, k):\n",
    "        self.k = k\n",
    "        self.queue = [None] * k\n",
    "        self.head = self.tail = -1\n",
    "\n",
    "    # Insert an element into the circular queue\n",
    "    def enqueue(self, data):\n",
    "\n",
    "        if ((self.tail + 1) % self.k == self.head):\n",
    "            print(\"The circular queue is full\\n\")\n",
    "\n",
    "        elif (self.head == -1):\n",
    "            self.head = 0\n",
    "            self.tail = 0\n",
    "            self.queue[self.tail] = data\n",
    "        else:\n",
    "            self.tail = (self.tail + 1) % self.k\n",
    "            self.queue[self.tail] = data\n",
    "\n",
    "    # Delete an element from the circular queue\n",
    "    def dequeue(self):\n",
    "        if (self.head == -1):\n",
    "            print(\"The circular queue is empty\\n\")\n",
    "\n",
    "        elif (self.head == self.tail):\n",
    "            temp = self.queue[self.head]\n",
    "            self.head = -1\n",
    "            self.tail = -1\n",
    "            return temp\n",
    "        else:\n",
    "            temp = self.queue[self.head]\n",
    "            self.head = (self.head + 1) % self.k\n",
    "            return temp\n",
    "\n",
    "    def printCQueue(self):\n",
    "        if(self.head == -1):\n",
    "            print(\"No element in the circular queue\")\n",
    "\n",
    "        elif (self.tail >= self.head):\n",
    "            for i in range(self.head, self.tail + 1):\n",
    "                print(self.queue[i], end=\" \")\n",
    "            print()\n",
    "        else:\n",
    "            for i in range(self.head, self.k):\n",
    "                print(self.queue[i], end=\" \")\n",
    "            for i in range(0, self.tail + 1):\n",
    "                print(self.queue[i], end=\" \")\n",
    "            print()\n",
    "\n",
    "\n",
    "# Your MyCircularQueue object will be instantiated and called as such:\n",
    "obj = MyCircularQueue(5)\n",
    "obj.enqueue(1)\n",
    "obj.enqueue(2)\n",
    "obj.enqueue(3)\n",
    "obj.enqueue(4)\n",
    "obj.enqueue(5)\n",
    "print(\"Initial queue\")\n",
    "obj.printCQueue()\n",
    "\n",
    "obj.dequeue()\n",
    "print(\"After removing an element from the queue\")\n",
    "obj.printCQueue()"
   ]
  },
  {
   "cell_type": "code",
   "execution_count": null,
   "metadata": {},
   "outputs": [],
   "source": []
  }
 ],
 "metadata": {
  "kernelspec": {
   "display_name": "Python 3",
   "language": "python",
   "name": "python3"
  },
  "language_info": {
   "codemirror_mode": {
    "name": "ipython",
    "version": 3
   },
   "file_extension": ".py",
   "mimetype": "text/x-python",
   "name": "python",
   "nbconvert_exporter": "python",
   "pygments_lexer": "ipython3",
   "version": "3.7.4"
  }
 },
 "nbformat": 4,
 "nbformat_minor": 2
}
