{
 "cells": [
  {
   "cell_type": "markdown",
   "metadata": {},
   "source": [
    "# Question 1\n",
    "Write a function “insert_any()” for inserting a node at any given position of the linked list. Assume\n",
    "position starts at 0."
   ]
  },
  {
   "cell_type": "code",
   "execution_count": 2,
   "metadata": {},
   "outputs": [],
   "source": [
    "\n",
    "def insertAfter(self, prev_node, new_data):  \n",
    "  \n",
    "    \n",
    "    if prev_node is None:  \n",
    "        print(\"The given previous node must inLinkedList.\")\n",
    "        return\n",
    "  \n",
    "   \n",
    "    new_node = Node(new_data)  \n",
    "  \n",
    "    \n",
    "    new_node.next = prev_node.next\n",
    "  \n",
    "    \n",
    "    prev_node.next = new_node"
   ]
  },
  {
   "cell_type": "markdown",
   "metadata": {},
   "source": [
    "# Question 2\n",
    "Write a function “delete_beg()” for deleting a node from the beginning of the linked list."
   ]
  },
  {
   "cell_type": "code",
   "execution_count": 4,
   "metadata": {},
   "outputs": [
    {
     "name": "stdout",
     "output_type": "stream",
     "text": [
      "23 11 29 12 "
     ]
    }
   ],
   "source": [
    "# import sys \n",
    "  \n",
    "# Link list node  \n",
    "class Node: \n",
    "    def __init__(self, data): \n",
    "        self.data = data \n",
    "        self.next = None\n",
    "  \n",
    "# Function to remove the first node   \n",
    "# of the linked list  \n",
    "def removeFirstNode(head): \n",
    "    if not head: \n",
    "        return None\n",
    "    temp = head \n",
    "  \n",
    "    \n",
    "    head = head.next\n",
    "    temp = None\n",
    "    return head \n",
    "  \n",
    "\n",
    "def push(head, data): \n",
    "    if not head: \n",
    "        return Node(data) \n",
    "    temp = Node(data) \n",
    "    temp.next = head \n",
    "    head = temp \n",
    "    return head \n",
    "  \n",
    "\n",
    "if __name__=='__main__': \n",
    "  \n",
    "    \n",
    "    head = None\n",
    "  \n",
    "    \n",
    "    head = push(head, 12) \n",
    "    head = push(head, 29) \n",
    "    head = push(head, 11) \n",
    "    head = push(head, 23) \n",
    "    head = push(head, 8) \n",
    "  \n",
    "    head = removeFirstNode(head) \n",
    "      \n",
    "    while(head): \n",
    "        print(\"{} \".format(head.data), end =\"\") \n",
    "        head = head.next"
   ]
  },
  {
   "cell_type": "markdown",
   "metadata": {},
   "source": [
    "# Question 3\n",
    "Write a function “delete_end()” for deleting a node from the end of the linked list."
   ]
  },
  {
   "cell_type": "code",
   "execution_count": 5,
   "metadata": {},
   "outputs": [
    {
     "name": "stdout",
     "output_type": "stream",
     "text": [
      "8 23 11 29 "
     ]
    }
   ],
   "source": [
    "import sys \n",
    "import math \n",
    "  \n",
    "# Link list node \n",
    "class Node: \n",
    "    def __init__(self, data): \n",
    "        self.data = data \n",
    "        self.next = None\n",
    "  \n",
    "# Function to push node at head  \n",
    "def push(head, data): \n",
    "    if not head: \n",
    "        return Node(data) \n",
    "    temp = Node(data) \n",
    "    temp.next = head \n",
    "    head = temp \n",
    "    return head \n",
    "\n",
    "def removeLastNode(head): \n",
    "    if head == None: \n",
    "        return None\n",
    "    if head.next == None: \n",
    "        head = None\n",
    "        return None\n",
    "    second_last = head \n",
    "    while(second_last.next.next): \n",
    "        second_last = second_last.next\n",
    "    second_last.next = None\n",
    "    return head \n",
    "  \n",
    "\n",
    "if __name__=='__main__': \n",
    "  \n",
    "   \n",
    "    head = None\n",
    "    \n",
    "    head = push(head, 12) \n",
    "    head = push(head, 29) \n",
    "    head = push(head, 11) \n",
    "    head = push(head, 23) \n",
    "    head = push(head, 8) \n",
    "  \n",
    "    head = removeLastNode(head) \n",
    "    while(head): \n",
    "        print(\"{} \".format(head.data), end =\"\") \n",
    "        head = head.next"
   ]
  },
  {
   "cell_type": "code",
   "execution_count": null,
   "metadata": {},
   "outputs": [],
   "source": []
  }
 ],
 "metadata": {
  "kernelspec": {
   "display_name": "Python 3",
   "language": "python",
   "name": "python3"
  },
  "language_info": {
   "codemirror_mode": {
    "name": "ipython",
    "version": 3
   },
   "file_extension": ".py",
   "mimetype": "text/x-python",
   "name": "python",
   "nbconvert_exporter": "python",
   "pygments_lexer": "ipython3",
   "version": "3.7.4"
  }
 },
 "nbformat": 4,
 "nbformat_minor": 2
}
