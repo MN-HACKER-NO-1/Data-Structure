{
 "cells": [
  {
   "cell_type": "markdown",
   "metadata": {},
   "source": [
    "Question 1\n",
    "\n",
    "1.) Find the time complexity for the following scenarios\n",
    "\n",
    "    a.) for(i=1;i<=n;i++)\n",
    "            for(j=i;i<=n;j++)\n",
    "                printf(\"Hi\");\n",
    "          >>ANSWER IS=O(N SQUARE)\n",
    "        \n",
    "    \n",
    "    b.) for(i=1;i<=n;i*=3)\n",
    "            for(j=1;i<=n;j++)\n",
    "                printf(\"Hello\");\n",
    "          >>ANSWER IS=O(N)"
   ]
  },
  {
   "cell_type": "code",
   "execution_count": null,
   "metadata": {},
   "outputs": [],
   "source": []
  }
 ],
 "metadata": {
  "kernelspec": {
   "display_name": "Python 3",
   "language": "python",
   "name": "python3"
  },
  "language_info": {
   "codemirror_mode": {
    "name": "ipython",
    "version": 3
   },
   "file_extension": ".py",
   "mimetype": "text/x-python",
   "name": "python",
   "nbconvert_exporter": "python",
   "pygments_lexer": "ipython3",
   "version": "3.7.4"
  }
 },
 "nbformat": 4,
 "nbformat_minor": 2
}
