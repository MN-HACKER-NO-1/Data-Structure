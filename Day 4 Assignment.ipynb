{
 "cells": [
  {
   "cell_type": "markdown",
   "metadata": {},
   "source": [
    "# Question 1\n",
    "In the Binary Search algorithm, it is suggested to calculate the mid as\n",
    "beg + (end - beg) / 2 instead of (beg + end) / 2. Why is it so?"
   ]
  },
  {
   "cell_type": "raw",
   "metadata": {},
   "source": [
    "This is done to avoid overflow that may happen in adding two very big integers where the addition result may become greater than the max integer limit and yield weird results."
   ]
  },
  {
   "cell_type": "markdown",
   "metadata": {},
   "source": [
    "# Question 2\n",
    "Write the algorithm/function for Ternary Search."
   ]
  },
  {
   "cell_type": "code",
   "execution_count": 1,
   "metadata": {},
   "outputs": [
    {
     "name": "stdout",
     "output_type": "stream",
     "text": [
      "Index of 5 is 4\n",
      "Index of 50 is -1\n"
     ]
    }
   ],
   "source": [
    "import math as mt\n",
    " \n",
    "# Function to perform Ternary Search\n",
    "def ternarySearch(l, r, key, ar):\n",
    " \n",
    "    if (r >= l):\n",
    " \n",
    "        # Find the mid1 and mid2\n",
    "        mid1 = l + (r - l) //3\n",
    "        mid2 = r - (r - l) //3\n",
    " \n",
    "        \n",
    "        if (ar[mid1] == key): \n",
    "            return mid1\n",
    "         \n",
    "        if (ar[mid2] == key): \n",
    "            return mid2\n",
    "         \n",
    "    \n",
    "        if (key < ar[mid1]): \n",
    " \n",
    "            \n",
    "            return ternarySearch(l, mid1 - 1, key, ar)\n",
    "         \n",
    "        elif (key > ar[mid2]): \n",
    " \n",
    "            \n",
    "            return ternarySearch(mid2 + 1, r, key, ar)\n",
    "         \n",
    "        else: \n",
    " \n",
    "            \n",
    "            return ternarySearch(mid1 + 1, \n",
    "                                 mid2 - 1, key, ar)\n",
    "         \n",
    "    \n",
    "    return -1\n",
    " \n",
    "\n",
    "l, r, p = 0, 9, 5\n",
    " \n",
    "\n",
    "ar = [ 1, 2, 3, 4, 5, 6, 7, 8, 9, 10 ]\n",
    " \n",
    "\n",
    "l = 0\n",
    " \n",
    "\n",
    "r = 9\n",
    " \n",
    "\n",
    "\n",
    "key = 5\n",
    " \n",
    "\n",
    "p = ternarySearch(l, r, key, ar)\n",
    " \n",
    "\n",
    "print(\"Index of\", key, \"is\", p)\n",
    " \n",
    "\n",
    " \n",
    "\n",
    "key = 50\n",
    " \n",
    "\n",
    "p = ternarySearch(l, r, key, ar)\n",
    " \n",
    "\n",
    "print(\"Index of\", key, \"is\", p)"
   ]
  },
  {
   "cell_type": "code",
   "execution_count": null,
   "metadata": {},
   "outputs": [],
   "source": []
  }
 ],
 "metadata": {
  "kernelspec": {
   "display_name": "Python 3",
   "language": "python",
   "name": "python3"
  },
  "language_info": {
   "codemirror_mode": {
    "name": "ipython",
    "version": 3
   },
   "file_extension": ".py",
   "mimetype": "text/x-python",
   "name": "python",
   "nbconvert_exporter": "python",
   "pygments_lexer": "ipython3",
   "version": "3.7.4"
  }
 },
 "nbformat": 4,
 "nbformat_minor": 2
}
